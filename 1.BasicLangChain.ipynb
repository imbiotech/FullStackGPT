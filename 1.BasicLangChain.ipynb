{
 "cells": [
  {
   "cell_type": "markdown",
   "metadata": {},
   "source": [
    "### Basic Model"
   ]
  },
  {
   "cell_type": "code",
   "execution_count": 3,
   "metadata": {},
   "outputs": [
    {
     "name": "stderr",
     "output_type": "stream",
     "text": [
      "C:\\Users\\Public\\Temporary\\TEMP\\ipykernel_101792\\2288673006.py:5: LangChainDeprecationWarning: The class `ChatOpenAI` was deprecated in LangChain 0.0.10 and will be removed in 1.0. An updated version of the class exists in the :class:`~langchain-openai package and should be used instead. To use it run `pip install -U :class:`~langchain-openai` and import as `from :class:`~langchain_openai import ChatOpenAI``.\n",
      "  chat = ChatOpenAI(\n"
     ]
    }
   ],
   "source": [
    "# from langchain.llms.openai import OpenAI # text-davinci-003 Model (사용 안 함)\n",
    "from langchain.chat_models import ChatOpenAI # GPT-3.5-turbo Model (text-davinci-003의 1/10 가격)\n",
    "\n",
    "# llm = OpenAI()\n",
    "chat = ChatOpenAI(\n",
    "    temperature=0.1 # 낮을 수록 일관성 있음, 높을 수록 무작위성(창의성) 있음, default 0.7\n",
    ")"
   ]
  },
  {
   "cell_type": "code",
   "execution_count": 3,
   "metadata": {},
   "outputs": [
    {
     "data": {
      "text/plain": [
       "AIMessage(content=\"Il mio nome è {name}! Mi dispiace, non posso calcolare la distanza esatta tra due paesi senza informazioni specifiche sulla posizione esatta all'interno di ciascun paese. Potresti fornirmi ulteriori dettagli? \\n\\n번역: 제 이름은 {name}입니다! 죄송합니다만, 두 나라 사이의 정확한 거리를 계산하기 위해서는 각 나라 내의 정확한 위치 정보가 필요합니다. 추가 정보를 제공해 주시겠어요?\")"
      ]
     },
     "execution_count": 3,
     "metadata": {},
     "output_type": "execute_result"
    }
   ],
   "source": [
    "##### 방식 1. HumanMessage, AIMessage, SystemMessage 를 직접 묶어서 messages로 사용 #####\n",
    "from langchain.schema import HumanMessage, AIMessage, SystemMessage \n",
    "\n",
    "\n",
    "# HumanMessage: 사용자 입력, AIMessage: AI 출력, SystemMessage: 시스템 출력, prompt를 직접 입력할 때 사용\n",
    "\n",
    "messages = [\n",
    "    SystemMessage(content=\"You are a geography expert. And you only reply in {language}.\"), # SystemMessage(content=AI의 설정값 등을 입력함)\n",
    "    AIMessage(content=\"Ciao, mi chiamo {name}!\"), # AIMessage(content=AI의 출력값 등을 입력함)\n",
    "    HumanMessage(content=\"What is the distance between {country_a} and {country_b}? Also, what is your name?\") # HumanMessage(content=사용자 입력값)\n",
    "]\n",
    "\n",
    "chat.predict_messages(messages)"
   ]
  },
  {
   "cell_type": "markdown",
   "metadata": {},
   "source": [
    "결과값:\n",
    "AIMessage(content='Mi dispiace, non posso fornire informazioni sulla distanza tra due paesi specifici. Il mio nome è {name}. Posso aiutarti con altre domande geografiche?')\n",
    "<br/> 뜻: 죄송합니다만, 특정한 두 나라 사이의 거리에 대한 정보는 말씀드릴 수가 없습니다. 나의 이름은 {name}이다. 다른 지리적 질문도 도와드릴까요?\n",
    "\n",
    "message에서 {language}, {name}, {country_a}, {country_b}가 설정되어 있지 않아 제대로 된 정보가 출력되지 않음."
   ]
  },
  {
   "cell_type": "code",
   "execution_count": 3,
   "metadata": {},
   "outputs": [
    {
     "ename": "NameError",
     "evalue": "name 'chat' is not defined",
     "output_type": "error",
     "traceback": [
      "\u001b[1;31m---------------------------------------------------------------------------\u001b[0m",
      "\u001b[1;31mNameError\u001b[0m                                 Traceback (most recent call last)",
      "Cell \u001b[1;32mIn[3], line 8\u001b[0m\n\u001b[0;32m      4\u001b[0m template_c \u001b[38;5;241m=\u001b[39m PromptTemplate\u001b[38;5;241m.\u001b[39mfrom_template(\u001b[38;5;124m\"\u001b[39m\u001b[38;5;124mWhat is the distance between \u001b[39m\u001b[38;5;132;01m{country_a}\u001b[39;00m\u001b[38;5;124m and \u001b[39m\u001b[38;5;132;01m{country_b}\u001b[39;00m\u001b[38;5;124m? Also, what is your name?\u001b[39m\u001b[38;5;124m\"\u001b[39m) \u001b[38;5;66;03m# template 생성, {country_a}, {country_b}는 변수\u001b[39;00m\n\u001b[0;32m      6\u001b[0m prompt_a \u001b[38;5;241m=\u001b[39m template_c\u001b[38;5;241m.\u001b[39mformat(country_a\u001b[38;5;241m=\u001b[39m\u001b[38;5;124m\"\u001b[39m\u001b[38;5;124mMaxico\u001b[39m\u001b[38;5;124m\"\u001b[39m, country_b\u001b[38;5;241m=\u001b[39m\u001b[38;5;124m\"\u001b[39m\u001b[38;5;124mThailand\u001b[39m\u001b[38;5;124m\"\u001b[39m) \u001b[38;5;66;03m# template에 변수를 적용하여 prompt 생성\u001b[39;00m\n\u001b[1;32m----> 8\u001b[0m \u001b[43mchat\u001b[49m\u001b[38;5;241m.\u001b[39mpredict(prompt_a) \u001b[38;5;66;03m# prompt_a를 입력하여 AI 출력 예측\u001b[39;00m\n",
      "\u001b[1;31mNameError\u001b[0m: name 'chat' is not defined"
     ]
    }
   ],
   "source": [
    "##### 방식 2. PromptTemplate 사용 #####\n",
    "from langchain.prompts import PromptTemplate # PromtTemplate은 string에서 template을 생성하기 위해 사용\n",
    "\n",
    "template_c = PromptTemplate.from_template(\"What is the distance between {country_a} and {country_b}? Also, what is your name?\") # template 생성, {country_a}, {country_b}는 변수\n",
    "\n",
    "prompt_a = template_c.format(country_a=\"Maxico\", country_b=\"Thailand\") # template에 변수를 적용하여 prompt 생성\n",
    "\n",
    "chat.predict(prompt_a) # prompt_a를 입력하여 AI 출력 예측"
   ]
  },
  {
   "cell_type": "markdown",
   "metadata": {},
   "source": [
    "결과값:\n",
    "'The distance between Mexico and Thailand is approximately 15,000 kilometers. My name is Assistant.'"
   ]
  },
  {
   "cell_type": "code",
   "execution_count": 2,
   "metadata": {},
   "outputs": [
    {
     "ename": "NameError",
     "evalue": "name 'chat' is not defined",
     "output_type": "error",
     "traceback": [
      "\u001b[1;31m---------------------------------------------------------------------------\u001b[0m",
      "\u001b[1;31mNameError\u001b[0m                                 Traceback (most recent call last)",
      "Cell \u001b[1;32mIn[2], line 19\u001b[0m\n\u001b[0;32m      4\u001b[0m template_b \u001b[38;5;241m=\u001b[39m ChatPromptTemplate\u001b[38;5;241m.\u001b[39mfrom_messages( \u001b[38;5;66;03m# system, ai, human 순서로 messages를 (\"speaker\", \"content\") 형태로 입력, {language}, {name}, {country_a}, {country_b}는 변수\u001b[39;00m\n\u001b[0;32m      5\u001b[0m     [\n\u001b[0;32m      6\u001b[0m         (\u001b[38;5;124m\"\u001b[39m\u001b[38;5;124msystem\u001b[39m\u001b[38;5;124m\"\u001b[39m, \u001b[38;5;124m\"\u001b[39m\u001b[38;5;124mYou are a geography expert. And you only reply in \u001b[39m\u001b[38;5;132;01m{language}\u001b[39;00m\u001b[38;5;124m.\u001b[39m\u001b[38;5;124m\"\u001b[39m),\n\u001b[1;32m   (...)\u001b[0m\n\u001b[0;32m      9\u001b[0m     ]\n\u001b[0;32m     10\u001b[0m )\n\u001b[0;32m     12\u001b[0m prompt_b \u001b[38;5;241m=\u001b[39m template_b\u001b[38;5;241m.\u001b[39mformat_messages( \u001b[38;5;66;03m# template에 변수를 적용하여 prompt 생성\u001b[39;00m\n\u001b[0;32m     13\u001b[0m     language\u001b[38;5;241m=\u001b[39m\u001b[38;5;124m\"\u001b[39m\u001b[38;5;124mGreek\u001b[39m\u001b[38;5;124m\"\u001b[39m,\n\u001b[0;32m     14\u001b[0m     name\u001b[38;5;241m=\u001b[39m\u001b[38;5;124m\"\u001b[39m\u001b[38;5;124mSocrates\u001b[39m\u001b[38;5;124m\"\u001b[39m,\n\u001b[0;32m     15\u001b[0m     country_a\u001b[38;5;241m=\u001b[39m\u001b[38;5;124m\"\u001b[39m\u001b[38;5;124mMexico\u001b[39m\u001b[38;5;124m\"\u001b[39m,\n\u001b[0;32m     16\u001b[0m     country_b\u001b[38;5;241m=\u001b[39m\u001b[38;5;124m\"\u001b[39m\u001b[38;5;124mThailand\u001b[39m\u001b[38;5;124m\"\u001b[39m\n\u001b[0;32m     17\u001b[0m )\n\u001b[1;32m---> 19\u001b[0m \u001b[43mchat\u001b[49m\u001b[38;5;241m.\u001b[39mpredict_messages(prompt_b) \u001b[38;5;66;03m# prompt_b를 입력하여 AI 출력 예측\u001b[39;00m\n",
      "\u001b[1;31mNameError\u001b[0m: name 'chat' is not defined"
     ]
    }
   ],
   "source": [
    "##### 방식 3. ChatPromptTemplate 사용 #####\n",
    "from langchain.prompts import ChatPromptTemplate # CharPromptTemplate는 messages에서 template을 생성하기 위해 사용\n",
    "\n",
    "template_b = ChatPromptTemplate.from_messages( # system, ai, human 순서로 messages를 (\"speaker\", \"content\") 형태로 입력, {language}, {name}, {country_a}, {country_b}는 변수\n",
    "    [\n",
    "        (\"system\", \"You are a geography expert. And you only reply in {language}.\"),\n",
    "        (\"ai\", \"Ciao, mi chiamo {name}!\"),\n",
    "        (\"human\", \"What is the distance between {country_a} and {country_b}? Also, what is your name?\")\n",
    "    ]\n",
    ")\n",
    "\n",
    "prompt_b = template_b.format_messages( # template에 변수를 적용하여 prompt 생성\n",
    "    language=\"Greek\",\n",
    "    name=\"Socrates\",\n",
    "    country_a=\"Mexico\",\n",
    "    country_b=\"Thailand\"\n",
    ")\n",
    "\n",
    "chat.predict_messages(prompt_b) # prompt_b를 입력하여 AI 출력 예측"
   ]
  },
  {
   "cell_type": "markdown",
   "metadata": {},
   "source": [
    "결과값: AIMessage(content='Γεια σας! Το όνομά μου είναι Σωκράτης. Η απόσταση μεταξύ του Μεξικού και της Ταϊλάνδης είναι περίπου 16.000 χιλιόμετρα.')\n",
    "<br/> 뜻: 안녕하세요! 내 이름은 소크라테스입니다. 멕시코와 태국 간의 거리는 약 16,000km입니다."
   ]
  },
  {
   "cell_type": "code",
   "execution_count": 6,
   "metadata": {},
   "outputs": [
    {
     "data": {
      "text/plain": [
       "['mercury', 'venus', 'earth', 'mars', 'jupiter']"
      ]
     },
     "execution_count": 6,
     "metadata": {},
     "output_type": "execute_result"
    }
   ],
   "source": [
    "##### 방식 4. ChatPromptTemplate 사용 및 사용자 정의 함수를 사용한 응용 #####\n",
    "from langchain.schema import BaseOutputParser\n",
    "\n",
    "template_c = ChatPromptTemplate.from_messages( \n",
    "    [\n",
    "        # {max_items}은 답변의 최대 개수\n",
    "        (\"system\", \"You are a list generating machine. Everything you are asked will be answered with a comma separated list of max {max_items} in lower case. Do NOT reply with anything else.\"),\n",
    "        # {question}은 사용자의 질문\n",
    "        (\"human\", \"{question}\")\n",
    "    ]\n",
    ")\n",
    "\n",
    "# template에 변수를 적용하여 prompt 생성\n",
    "prompt_c = template_c.format_messages( \n",
    "    max_items=5,\n",
    "    question=\"What are the planets?\"\n",
    ")\n",
    "\n",
    "# prompt_c를 입력하여 AI 출력 예측\n",
    "result = chat.predict_messages(prompt_c) \n",
    "\n",
    "\n",
    "# AI 출력을 파싱하기 위한 클래스, BaseOutputParser를 상속받아 구현, 파싱이란? AI 출력을 의미있는 형태로 변환하는 것\n",
    "class CommaOutputParser(BaseOutputParser): \n",
    "    def parse(self, text):\n",
    "        items = text.strip().split(\",\")\n",
    "        return list(map(str.strip, items))\n",
    "\n",
    "par = CommaOutputParser() # CommaOutputParser 객체 par 생성 (함수를 사용하기 위해 생성 필요함)\n",
    "par.parse(result.content)"
   ]
  },
  {
   "cell_type": "markdown",
   "metadata": {},
   "source": [
    "(max_items = 10) 결과값: <br/>\n",
    "['mercury','venus','earth','mars','jupiter','saturn','uranus','neptune','pluto']"
   ]
  },
  {
   "cell_type": "markdown",
   "metadata": {},
   "source": [
    "(max_items = 5) 결과값: <br/>\n",
    "['mercury','venus','earth','mars','jupiter']"
   ]
  },
  {
   "cell_type": "code",
   "execution_count": 7,
   "metadata": {},
   "outputs": [
    {
     "data": {
      "text/plain": [
       "['bulbasaur',\n",
       " 'ivysaur',\n",
       " 'venusaur',\n",
       " 'charmander',\n",
       " 'charmeleon',\n",
       " 'charizard',\n",
       " 'squirtle',\n",
       " 'wartortle',\n",
       " 'blastoise',\n",
       " 'pikachu']"
      ]
     },
     "execution_count": 7,
     "metadata": {},
     "output_type": "execute_result"
    }
   ],
   "source": [
    "##### 방식 5. Langchain format을 사용한 응용 #####\n",
    "\n",
    "# template -> chat -> par 순서로 실행됨\n",
    "chain = template_c | chat | par \n",
    "\n",
    "chain.invoke(\n",
    "    {\n",
    "        \"max_items\": 10,\n",
    "        \"question\": \"What are the pokemons?\"\n",
    "    }\n",
    ")\n",
    "\n",
    "# 이런 방식으로도 조합할 수 있음\n",
    "# chain_one = template1 | chat1 | parser1: template1 -> chat1 -> parser1 순서로 실행됨\n",
    "# chain_two = template2 | chat2 | parser2: template2 -> chat2 -> parser2 순서로 실행됨\n",
    "# all = chain_one | chain_two | ouput: chain_one -> chain_two -> output 순서로 실행됨"
   ]
  },
  {
   "cell_type": "markdown",
   "metadata": {},
   "source": [
    "(max_items = 10) 결과값: <br/>\n",
    "['bulbasaur', 'ivysaur', 'venusaur', 'charmander', 'charmeleon', 'charizard', 'squirtle', 'wartortle', 'blastoise', 'pikachu']"
   ]
  },
  {
   "cell_type": "markdown",
   "metadata": {},
   "source": [
    "### LangChain?\n",
    "template1 | chat1 | parser1 로 짜여진 chain을 invoke 할 경우\n",
    "<br/> 첫 번째 input이 template1로 입력되어 첫 번째 output이 되어 결과로 나오고\n",
    "<br/> 해당 output1이 chat1로 입력되어 두 번째 output이 되어 결과로 나오고\n",
    "<br/> 해당 output2가 parser1로 입력되어 최종 결과로 나옴 "
   ]
  },
  {
   "cell_type": "markdown",
   "metadata": {},
   "source": [
    "##### 5 Input Types of LangChain\n",
    "1. Prompt: Dict Type\n",
    "2. Retriever: String Type\n",
    "3. LLM: String Type\n",
    "    3-1. ChatModel: List Type (chat message나 PromptValue Type 자료를 담고 있음)\n",
    "4. Tool: String Type\n",
    "5. OutputParser\n",
    "\n",
    "##### Output Types of LangChain\n",
    "1. LLM: String Type\n",
    "    1-1. ChatModel: ChatMessage Type\n",
    "2. Prompt: PromptValue Type\n",
    "3. Retriever: List of Documents\n",
    "4. Tool: Depends on the tool\n",
    "5. OutputParser: Depends on the parser"
   ]
  },
  {
   "cell_type": "markdown",
   "metadata": {},
   "source": [
    "---"
   ]
  },
  {
   "cell_type": "code",
   "execution_count": 8,
   "metadata": {},
   "outputs": [],
   "source": [
    "# from langchain.llms.openai import OpenAI # text-davinci-003 Model (사용 안 함)\n",
    "from langchain.chat_models import ChatOpenAI # GPT-3.5-turbo Model (text-davinci-003의 1/10 가격)\n",
    "from langchain.prompts import ChatPromptTemplate\n",
    "from langchain.callbacks import StreamingStdOutCallbackHandler\n",
    "\n",
    "# llm = OpenAI()\n",
    "chat = ChatOpenAI(\n",
    "    temperature=0.1 # 낮을 수록 일관성 있음, 높을 수록 무작위성(창의성) 있음, default 0.7\n",
    "    ,streaming=True # streaming=True로 설정하면, AI 출력이 나올 때마다 출력을 반환함, 모든 출력이 다 나올때까지 대기할 필요가 없음\n",
    "    ,callbacks=[StreamingStdOutCallbackHandler()] # streaming=True로 설정하면, 출력을 받을 때마다 callback 함수를 호출함\n",
    ")"
   ]
  },
  {
   "cell_type": "code",
   "execution_count": 9,
   "metadata": {},
   "outputs": [],
   "source": [
    "# {요리 이름}을 입력하면 요리법을 알려주는 챗봇\n",
    "chef_prompt = ChatPromptTemplate.from_messages([\n",
    "    (\"system\", \"You are a world-class international chef. You create easy to follow recipe for any type of cuisine with easy to find ingredients.\"),\n",
    "    (\"human\", \"I want to cook {cuisine} food.\"),\n",
    "])\n",
    "\n",
    "# chef_prompt에 {cuisine}를 넣어 prompt를 생성하고, system 메시지를 수행하는 chain 생성\n",
    "chef_chain = chef_prompt | chat"
   ]
  },
  {
   "cell_type": "markdown",
   "metadata": {},
   "source": [
    "<img src=\".\\assets\\images\\Result1.png\">"
   ]
  },
  {
   "cell_type": "code",
   "execution_count": 13,
   "metadata": {},
   "outputs": [],
   "source": [
    "# {요리법}을 입력하면 해당 요리법의 재료를 Vegetarian 용으로 바꿔주는 챗봇\n",
    "veg_chef_prompt = ChatPromptTemplate.from_messages([\n",
    "    (\"system\",\"You are a vegetarian chef specialized on making traditional recipes vegetarian. You find alternative ingredients and explain their preparation. You don't radically modify the recipe. If there is no alternative for a food just say you don't know how to replace it.\"),\n",
    "    (\"human\", \"{recipe}\"),\n",
    "])\n",
    "# \"If there is no alternative for a food just say you don't know how to replace it.\" Hallucination 방지를 위한 문장\n",
    "\n",
    "# veg_chef_prompt에 {recipe}를 넣어 prompt를 생성하고, system 메시지를 수행하는 chain 생성\n",
    "veg_chain = veg_chef_prompt | chat"
   ]
  },
  {
   "cell_type": "markdown",
   "metadata": {},
   "source": [
    "<img src=\".\\assets\\images\\Result2.png\">"
   ]
  },
  {
   "cell_type": "code",
   "execution_count": 15,
   "metadata": {},
   "outputs": [
    {
     "name": "stdout",
     "output_type": "stream",
     "text": [
      "Great choice! How about trying to make a classic Indian dish like Chicken Tikka Masala? Here's a simple recipe for you to try at home:\n",
      "\n",
      "Ingredients:\n",
      "- 1 lb boneless, skinless chicken breasts, cut into bite-sized pieces\n",
      "- 1 cup plain yogurt\n",
      "- 2 tablespoons lemon juice\n",
      "- 2 teaspoons ground cumin\n",
      "- 2 teaspoons paprika\n",
      "- 1 teaspoon ground cinnamon\n",
      "- 1 teaspoon ground turmeric\n",
      "- 1 teaspoon ground coriander\n",
      "- 1 teaspoon cayenne pepper (adjust to taste)\n",
      "- Salt and pepper to taste\n",
      "- 2 tablespoons vegetable oil\n",
      "- 1 onion, finely chopped\n",
      "- 3 cloves garlic, minced\n",
      "- 1 tablespoon grated ginger\n",
      "- 1 can (14 oz) tomato sauce\n",
      "- 1 cup heavy cream\n",
      "- Fresh cilantro, chopped (for garnish)\n",
      "\n",
      "Instructions:\n",
      "1. In a bowl, mix together the yogurt, lemon juice, cumin, paprika, cinnamon, turmeric, coriander, cayenne pepper, salt, and pepper. Add the chicken pieces and coat them well with the marinade. Cover and refrigerate for at least 1 hour, or overnight for best results.\n",
      "\n",
      "2. Preheat the oven to 400°F (200°C). Thread the marinated chicken pieces onto skewers and place them on a baking sheet. Bake for 20-25 minutes, or until the chicken is cooked through.\n",
      "\n",
      "3. In a large skillet, heat the vegetable oil over medium heat. Add the chopped onion and cook until softened, about 5 minutes. Add the garlic and ginger, and cook for another minute.\n",
      "\n",
      "4. Stir in the tomato sauce and bring to a simmer. Add the baked chicken pieces to the sauce and simmer for 10 minutes.\n",
      "\n",
      "5. Stir in the heavy cream and simmer for an additional 5 minutes, stirring occasionally.\n",
      "\n",
      "6. Serve the Chicken Tikka Masala over steamed rice, garnished with fresh cilantro. Enjoy your delicious homemade Indian meal!\n",
      "\n",
      "Feel free to adjust the spice levels to suit your taste preferences. Enjoy your culinary adventure in making Chicken Tikka Masala!For a vegetarian version of Chicken Tikka Masala, you can replace the chicken with a plant-based alternative such as tofu or paneer. Here's how you can adapt the recipe:\n",
      "\n",
      "Ingredients:\n",
      "- 1 lb firm tofu or paneer, cut into bite-sized pieces\n",
      "- 1 cup plain yogurt (use plant-based yogurt for a vegan version)\n",
      "- 2 tablespoons lemon juice\n",
      "- 2 teaspoons ground cumin\n",
      "- 2 teaspoons paprika\n",
      "- 1 teaspoon ground cinnamon\n",
      "- 1 teaspoon ground turmeric\n",
      "- 1 teaspoon ground coriander\n",
      "- 1 teaspoon cayenne pepper (adjust to taste)\n",
      "- Salt and pepper to taste\n",
      "- 2 tablespoons vegetable oil\n",
      "- 1 onion, finely chopped\n",
      "- 3 cloves garlic, minced\n",
      "- 1 tablespoon grated ginger\n",
      "- 1 can (14 oz) tomato sauce\n",
      "- 1 cup coconut cream (or cashew cream for a lighter option)\n",
      "- Fresh cilantro, chopped (for garnish)\n",
      "\n",
      "Instructions:\n",
      "1. Follow the same marinating process as the original recipe, but use tofu or paneer instead of chicken. Marinate the tofu or paneer in the yogurt and spice mixture for at least 1 hour.\n",
      "\n",
      "2. Instead of baking the chicken, you can pan-fry the marinated tofu or paneer until golden brown on all sides.\n",
      "\n",
      "3. Proceed with the recipe as instructed, replacing the chicken with the cooked tofu or paneer when adding it to the tomato sauce.\n",
      "\n",
      "4. Substitute heavy cream with coconut cream or cashew cream for a creamy texture in the dish.\n",
      "\n",
      "5. Serve the Vegetarian Tikka Masala over steamed rice, garnished with fresh cilantro.\n",
      "\n",
      "By making these simple ingredient swaps, you can enjoy a delicious vegetarian version of Chicken Tikka Masala that retains the flavors of the traditional dish. Enjoy your culinary adventure!"
     ]
    },
    {
     "data": {
      "text/plain": [
       "AIMessageChunk(content=\"For a vegetarian version of Chicken Tikka Masala, you can replace the chicken with a plant-based alternative such as tofu or paneer. Here's how you can adapt the recipe:\\n\\nIngredients:\\n- 1 lb firm tofu or paneer, cut into bite-sized pieces\\n- 1 cup plain yogurt (use plant-based yogurt for a vegan version)\\n- 2 tablespoons lemon juice\\n- 2 teaspoons ground cumin\\n- 2 teaspoons paprika\\n- 1 teaspoon ground cinnamon\\n- 1 teaspoon ground turmeric\\n- 1 teaspoon ground coriander\\n- 1 teaspoon cayenne pepper (adjust to taste)\\n- Salt and pepper to taste\\n- 2 tablespoons vegetable oil\\n- 1 onion, finely chopped\\n- 3 cloves garlic, minced\\n- 1 tablespoon grated ginger\\n- 1 can (14 oz) tomato sauce\\n- 1 cup coconut cream (or cashew cream for a lighter option)\\n- Fresh cilantro, chopped (for garnish)\\n\\nInstructions:\\n1. Follow the same marinating process as the original recipe, but use tofu or paneer instead of chicken. Marinate the tofu or paneer in the yogurt and spice mixture for at least 1 hour.\\n\\n2. Instead of baking the chicken, you can pan-fry the marinated tofu or paneer until golden brown on all sides.\\n\\n3. Proceed with the recipe as instructed, replacing the chicken with the cooked tofu or paneer when adding it to the tomato sauce.\\n\\n4. Substitute heavy cream with coconut cream or cashew cream for a creamy texture in the dish.\\n\\n5. Serve the Vegetarian Tikka Masala over steamed rice, garnished with fresh cilantro.\\n\\nBy making these simple ingredient swaps, you can enjoy a delicious vegetarian version of Chicken Tikka Masala that retains the flavors of the traditional dish. Enjoy your culinary adventure!\")"
      ]
     },
     "execution_count": 15,
     "metadata": {},
     "output_type": "execute_result"
    }
   ],
   "source": [
    "# chain model을 연계하여 사용하지 않을 경우 chef_chain, veg_chain을 각각 사용해야 함\n",
    "# chef_chain.invoke({\"cuisine\": \"indian\"}) -> \"Chicken Tikka Masala\"\n",
    "# veg_chain.invoke({\"recipe\": \"Chicken Tikka Masala\"}) -> veg_recipe of \"Chicken Tikka Masala\"\n",
    "\n",
    "# 반면 chain model을 연계하여 사용할 경우 chef_chain, veg_chain을 각각 사용하지 않아도 됨\n",
    "# final_chain = chef_chain | veg_chain -> 이 경우 chef_chain의 결과값이 veg_chain의 {recipe}에 들어갈 수 없음, 위치를 명확히 지정해줘야 들어감\n",
    "final_chain = {\"recipe\": chef_chain} | veg_chain # chef_chain의 결과값이 veg_chain의 {recipe}에 들어감\n",
    "final_chain.invoke({\n",
    "    \"cuisine\": \"indian\" #cuisine이 chef_chain의 {cuisine}에 들어감\n",
    "})"
   ]
  },
  {
   "cell_type": "markdown",
   "metadata": {},
   "source": [
    "<img src=.\\assets\\images\\Result3.png>"
   ]
  },
  {
   "cell_type": "markdown",
   "metadata": {},
   "source": [
    "#### 1 차 Chicken Tikka Masala에 대한 Recipe 출력 (실제로 출력되지 않음)\n",
    "Great choice! How about trying to make a classic Indian dish like Chicken Tikka Masala? Here's a simple recipe for you to try at home:\n",
    "\n",
    "Ingredients:\n",
    "- 1 lb boneless, skinless chicken breasts, cut into bite-sized pieces\n",
    "- 1 cup plain yogurt\n",
    "- 2 tablespoons lemon juice\n",
    "- 2 teaspoons ground cumin\n",
    "- 2 teaspoons paprika\n",
    "- 1 teaspoon ground cinnamon\n",
    "- 1 teaspoon ground turmeric\n",
    "- 1 teaspoon ground coriander\n",
    "- 1 teaspoon cayenne pepper (adjust to taste)\n",
    "- Salt and pepper to taste\n",
    "- 2 tablespoons vegetable oil\n",
    "- 1 onion, finely chopped\n",
    "- 3 cloves garlic, minced\n",
    "- 1 tablespoon grated ginger\n",
    "- 1 can (14 oz) tomato sauce\n",
    "- 1 cup heavy cream\n",
    "- Fresh cilantro, chopped (for garnish)\n",
    "\n",
    "Instructions:\n",
    "1. In a bowl, mix together the yogurt, lemon juice, cumin, paprika, cinnamon, turmeric, coriander, cayenne pepper, salt, and pepper. Add the chicken pieces and coat them well with the marinade. Cover and refrigerate for at least 1 hour, or overnight for best results.\n",
    "\n",
    "2. Preheat the oven to 400°F (200°C). Thread the marinated chicken pieces onto skewers and place them on a baking sheet. Bake for 20-25 minutes, or until the chicken is cooked through.\n",
    "\n",
    "3. In a large skillet, heat the vegetable oil over medium heat. Add the chopped onion and cook until softened, about 5 minutes. Add the garlic and ginger, and cook for another minute.\n",
    "\n",
    "4. Stir in the tomato sauce and bring to a simmer. Add the baked chicken pieces to the sauce and simmer for 10 minutes.\n",
    "\n",
    "5. Stir in the heavy cream and simmer for an additional 5 minutes, stirring occasionally.\n",
    "\n",
    "6. Serve the Chicken Tikka Masala over steamed rice, garnished with fresh cilantro. Enjoy your delicious homemade Indian meal!\n",
    "\n",
    "\n",
    "#### 2 차 Chicken Tikka Masala에 대한 Recipe를 Vegeterian에 맞춰 변환하여 출력 (최종 출력물)\n",
    "Feel free to adjust the spice levels to suit your taste preferences. Enjoy your culinary adventure in making Chicken Tikka Masala!For a vegetarian version of Chicken Tikka Masala, you can replace the chicken with a plant-based alternative such as tofu or paneer. Here's how you can adapt the recipe:\n",
    "\n",
    "Ingredients:\n",
    "- 1 lb firm tofu or paneer, cut into bite-sized pieces\n",
    "- 1 cup plain yogurt (use plant-based yogurt for a vegan version)\n",
    "- 2 tablespoons lemon juice\n",
    "- 2 teaspoons ground cumin\n",
    "- 2 teaspoons paprika\n",
    "- 1 teaspoon ground cinnamon\n",
    "- 1 teaspoon ground turmeric\n",
    "- 1 teaspoon ground coriander\n",
    "- 1 teaspoon cayenne pepper (adjust to taste)\n",
    "- Salt and pepper to taste\n",
    "- 2 tablespoons vegetable oil\n",
    "- 1 onion, finely chopped\n",
    "- 3 cloves garlic, minced\n",
    "- 1 tablespoon grated ginger\n",
    "- 1 can (14 oz) tomato sauce\n",
    "- 1 cup coconut cream (or cashew cream for a lighter option)\n",
    "- Fresh cilantro, chopped (for garnish)\n",
    "\n",
    "Instructions:\n",
    "1. Follow the same marinating process as the original recipe, but use tofu or paneer instead of chicken. Marinate the tofu or paneer in the yogurt and spice mixture for at least 1 hour.\n",
    "\n",
    "2. Instead of baking the chicken, you can pan-fry the marinated tofu or paneer until golden brown on all sides.\n",
    "\n",
    "3. Proceed with the recipe as instructed, replacing the chicken with the cooked tofu or paneer when adding it to the tomato sauce.\n",
    "\n",
    "4. Substitute heavy cream with coconut cream or cashew cream for a creamy texture in the dish.\n",
    "\n",
    "5. Serve the Vegetarian Tikka Masala over steamed rice, garnished with fresh cilantro.\n",
    "\n",
    "By making these simple ingredient swaps, you can enjoy a delicious vegetarian version of Chicken Tikka Masala that retains the flavors of the traditional dish. Enjoy your culinary adventure!"
   ]
  },
  {
   "cell_type": "markdown",
   "metadata": {},
   "source": [
    "---"
   ]
  },
  {
   "cell_type": "code",
   "execution_count": 1,
   "metadata": {},
   "outputs": [],
   "source": []
  }
 ],
 "metadata": {
  "kernelspec": {
   "display_name": "Python 3",
   "language": "python",
   "name": "python3"
  },
  "language_info": {
   "codemirror_mode": {
    "name": "ipython",
    "version": 3
   },
   "file_extension": ".py",
   "mimetype": "text/x-python",
   "name": "python",
   "nbconvert_exporter": "python",
   "pygments_lexer": "ipython3",
   "version": "3.13.3"
  },
  "orig_nbformat": 4
 },
 "nbformat": 4,
 "nbformat_minor": 2
}
