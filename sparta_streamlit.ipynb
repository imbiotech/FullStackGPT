{
 "cells": [
  {
   "cell_type": "code",
   "execution_count": 1,
   "id": "02e5207f",
   "metadata": {},
   "outputs": [],
   "source": [
    "import openai\n",
    "import os\n",
    "from dotenv import load_dotenv\n",
    "import streamlit as st\n",
    "load_dotenv()\n",
    "\n",
    "# Load the OpenAI API key from environment variables\n",
    "api_key = os.getenv(\"OPENAI_API_KEY\")\n",
    "if api_key is None:\n",
    "    raise ValueError(\"API key not found. Please set the OPENAI_API_KEY environment variable.\")\n",
    "\n",
    "# Initialize the OpenAI client with the API key\n",
    "client = openai.OpenAI(api_key = api_key)"
   ]
  },
  {
   "cell_type": "code",
   "execution_count": null,
   "id": "65d811ca",
   "metadata": {},
   "outputs": [],
   "source": []
  }
 ],
 "metadata": {
  "kernelspec": {
   "display_name": "Python 3",
   "language": "python",
   "name": "python3"
  },
  "language_info": {
   "codemirror_mode": {
    "name": "ipython",
    "version": 3
   },
   "file_extension": ".py",
   "mimetype": "text/x-python",
   "name": "python",
   "nbconvert_exporter": "python",
   "pygments_lexer": "ipython3",
   "version": "3.13.3"
  }
 },
 "nbformat": 4,
 "nbformat_minor": 5
}
