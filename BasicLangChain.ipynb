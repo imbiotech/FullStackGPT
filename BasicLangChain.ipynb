{
 "cells": [
  {
   "cell_type": "code",
   "execution_count": null,
   "metadata": {},
   "outputs": [],
   "source": [
    "# from langchain.llms.openai import OpenAI # text-davinci-003 Model (사용 안 함)\n",
    "from langchain.chat_models import ChatOpenAI # GPT-3.5-turbo Model (text-davinci-003의 1/10 가격)\n",
    "\n",
    "# llm = OpenAI()\n",
    "chat = ChatOpenAI(\n",
    "    temperature=0.1 # 낮을 수록 일관성 있음, 높을 수록 무작위성(창의성) 있음, default 0.7\n",
    ")"
   ]
  },
  {
   "cell_type": "code",
   "execution_count": null,
   "metadata": {},
   "outputs": [],
   "source": [
    "##### 방식 1. HumanMessage, AIMessage, SystemMessage 사용 #####\n",
    "from langchain.schema import HumanMessage, AIMessage, SystemMessage # HumanMessage: 사용자 입력, AIMessage: AI 출력, SystemMessage: 시스템 출력, prompt를 직접 입력할 때 사용\n",
    "\n",
    "messages = [\n",
    "    SystemMessage(content=\"You are a geography expert. And you only reply in {language}.\"),\n",
    "    AIMessage(content=\"Ciao, mi chiamo {name}!\"),\n",
    "    HumanMessage(content=\"What is the distance between {country_a} and {country_b}? Also, what is your name?\")\n",
    "]\n",
    "\n",
    "chat.predict_messages(messages)"
   ]
  },
  {
   "cell_type": "code",
   "execution_count": null,
   "metadata": {},
   "outputs": [],
   "source": [
    "##### 방식 2. PromptTemplate 사용 #####\n",
    "from langchain.prompts import PromptTemplate # PromtTemplate은 string에서 template을 생성하기 위해 사용\n",
    "\n",
    "template_c = PromptTemplate.from_template(\"What is the distance between {country_a} and {country_b}? Also, what is your name?\") # template 생성, {country_a}, {country_b}는 변수\n",
    "\n",
    "prompt_a = template_c.format(country_a=\"Maxico\", country_b=\"Thailand\") # template에 변수를 적용하여 prompt 생성\n",
    "\n",
    "chat.predict(prompt_a) # prompt_a를 입력하여 AI 출력 예측"
   ]
  },
  {
   "cell_type": "code",
   "execution_count": null,
   "metadata": {},
   "outputs": [],
   "source": [
    "##### 방식 3. ChatPromptTemplate 사용 #####\n",
    "from langchain.prompts import ChatPromptTemplate # CharPromptTemplate는 messages에서 template을 생성하기 위해 사용\n",
    "\n",
    "template_b = ChatPromptTemplate.from_messages( # system, ai, human 순서로 messages를 (\"speaker\", \"content\") 형태로 입력, {language}, {name}, {country_a}, {country_b}는 변수\n",
    "    [\n",
    "        (\"system\", \"You are a geography expert. And you only reply in {language}.\"),\n",
    "        (\"ai\", \"Ciao, mi chiamo {name}!\"),\n",
    "        (\"human\", \"What is the distance between {country_a} and {country_b}? Also, what is your name?\")\n",
    "    ]\n",
    ")\n",
    "\n",
    "prompt_b = template_b.format_messages( # template에 변수를 적용하여 prompt 생성\n",
    "    language=\"Greek\",\n",
    "    name=\"Socrates\",\n",
    "    country_a=\"Mexico\",\n",
    "    country_b=\"Thailand\"\n",
    ")\n",
    "\n",
    "chat.predict_messages(prompt_b) # prompt_b를 입력하여 AI 출력 예측"
   ]
  },
  {
   "cell_type": "code",
   "execution_count": null,
   "metadata": {},
   "outputs": [],
   "source": [
    "##### 방식 4. ChatPromptTemplate 사용 및 사용자 정의 함수를 사용한 응용 #####\n",
    "from langchain.schema import BaseOutputParser\n",
    "\n",
    "class CommaOutputParser(BaseOutputParser): # AI 출력을 파싱하기 위한 클래스, BaseOutputParser를 상속받아 구현, 파싱이란? AI 출력을 의미있는 형태로 변환하는 것\n",
    "    def parse(self, text):\n",
    "        items = text.strip().split(\",\")\n",
    "        return list(map(str.strip, items))\n",
    "\n",
    "par = CommaOutputParser() # CommaOutputParser 객체 par 생성 (함수를 사용하기 위해 생성 필요함)\n",
    "\n",
    "template_c = ChatPromptTemplate.from_messages( # {max_items}은 답변의 최대 개수, {question}은 사용자의 질문\n",
    "    [\n",
    "        (\"system\", \"You are a list generating machine. Everything you are asked will be answered with a comma separated list of max {max_items} in lower case. Do NOT reply with anything else.\"),\n",
    "        (\"human\", \"{question}\")\n",
    "    ]\n",
    ")\n",
    "\n",
    "prompt_c = template_c.format_messages( # template에 변수를 적용하여 prompt 생성\n",
    "    max_items=10,\n",
    "    question=\"What are the planets?\"\n",
    ")\n",
    "\n",
    "result = chat.predict_messages(prompt_c) # prompt_c를 입력하여 AI 출력 예측\n",
    "\n",
    "par.parse(result.content)"
   ]
  },
  {
   "cell_type": "code",
   "execution_count": null,
   "metadata": {},
   "outputs": [],
   "source": [
    "##### 방식 5. Langchain format을 사용한 응용 #####\n",
    "\n",
    "chain = template_c | chat | par # template -> chat -> par 순서로 실행됨\n",
    "\n",
    "chain.invoke(\n",
    "    {\n",
    "        \"max_items\": 10,\n",
    "        \"question\": \"What are the pokemons?\"\n",
    "    }\n",
    ")\n",
    "\n",
    "# 이런 방식으로도 조합할 수 있음\n",
    "# chain_one = template1 | chat1 | parser1: template1 -> chat1 -> parser1 순서로 실행됨\n",
    "# chain_two = template2 | chat2 | parser2: template2 -> chat2 -> parser2 순서로 실행됨\n",
    "# all = chain_one | chain_two | ouput: chain_one -> chain_two -> output 순서로 실행됨"
   ]
  },
  {
   "cell_type": "markdown",
   "metadata": {},
   "source": [
    "* LangChain?\n",
    "<br/> template1 | chat1 | parser1 로 짜여진 chain을 invoke 할 경우\n",
    "<br/> 첫 번째 input이 template1로 입력되어 첫 번째 output이 되어 결과로 나오고\n",
    "<br/> 해당 output1이 chat1로 입력되어 두 번째 output이 되어 결과로 나오고\n",
    "<br/> 해당 output2가 parser1로 입력되어 최종 결과로 나옴 \n",
    "\n",
    "5 Input Types of LangChain\n",
    "1. Prompt: Dict Type\n",
    "2. Retriever: String Type\n",
    "3. LLM: String Type\n",
    "    3-1. ChatModel: List Type (chat message나 PromptValue Type 자료를 담고 있음)\n",
    "4. Tool: String Type\n",
    "5. OutputParser\n",
    "\n",
    "Output Types of LangChain\n",
    "1. LLM: String Type\n",
    "    1-1. ChatModel: ChatMessage Type\n",
    "2. Prompt: PromptValue Type\n",
    "3. Retriever: List of Documents\n",
    "4. Tool: Depends on the tool\n",
    "5. OutputParser: Depends on the parser"
   ]
  },
  {
   "cell_type": "markdown",
   "metadata": {},
   "source": [
    "---"
   ]
  },
  {
   "cell_type": "code",
   "execution_count": 3,
   "metadata": {},
   "outputs": [],
   "source": [
    "# from langchain.llms.openai import OpenAI # text-davinci-003 Model (사용 안 함)\n",
    "from langchain.chat_models import ChatOpenAI # GPT-3.5-turbo Model (text-davinci-003의 1/10 가격)\n",
    "from langchain.prompts import ChatPromptTemplate\n",
    "from langchain.callbacks import StreamingStdOutCallbackHandler\n",
    "\n",
    "# llm = OpenAI()\n",
    "chat = ChatOpenAI(\n",
    "    temperature=0.1 # 낮을 수록 일관성 있음, 높을 수록 무작위성(창의성) 있음, default 0.7\n",
    "    ,streaming=True # streaming=True로 설정하면, AI 출력이 나올 때마다 출력을 반환함, 모든 출력이 다 나올때까지 대기할 필요가 없음\n",
    "    ,callbacks=[StreamingStdOutCallbackHandler()] # streaming=True로 설정하면, 출력을 받을 때마다 callback 함수를 호출함\n",
    ")"
   ]
  },
  {
   "cell_type": "code",
   "execution_count": 4,
   "metadata": {},
   "outputs": [],
   "source": [
    "# {요리 이름}을 입력하면 요리법을 알려주는 챗봇\n",
    "chef_prompt = ChatPromptTemplate.from_messages([\n",
    "    (\"system\", \"You are a world-class international chef. You create easy to follow recipe for any type of cuisine with easy to find ingredients.\"),\n",
    "    (\"human\", \"I want to cook {cuisine} food.\"),\n",
    "])\n",
    "\n",
    "chef_chain = chef_prompt | chat"
   ]
  },
  {
   "cell_type": "code",
   "execution_count": 5,
   "metadata": {},
   "outputs": [],
   "source": [
    "# {요리법}을 입력하면 해당 요리법의 재료를 Vegetarian 용으로 바꿔주는 챗봇\n",
    "veg_chef_prompt = ChatPromptTemplate.from_messages([\n",
    "    (\"system\",\"You are a vegetarian chef specialized on making traditional recipes vegetarian. You find alternative ingredients and explain their preparation. You don't radically modify the recipe. If there is no alternative for a food just say you don't know how to replace it.\"),\n",
    "    (\"human\", \"{recipe}\"),\n",
    "])\n",
    "# \"If there is no alternative for a food just say you don't know how to replace it.\" Hallucination 방지를 위한 문장"
   ]
  },
  {
   "cell_type": "code",
   "execution_count": 6,
   "metadata": {},
   "outputs": [
    {
     "name": "stdout",
     "output_type": "stream",
     "text": [
      "Great choice! Indian cuisine is known for its rich flavors and aromatic spices. Let's start with a classic Indian dish called Butter Chicken. Here's an easy recipe for you:\n",
      "\n",
      "Ingredients:\n",
      "- 500g boneless chicken, cut into bite-sized pieces\n",
      "- 2 tablespoons butter\n",
      "- 1 onion, finely chopped\n",
      "- 2 cloves of garlic, minced\n",
      "- 1-inch piece of ginger, grated\n",
      "- 2 teaspoons garam masala\n",
      "- 1 teaspoon turmeric powder\n",
      "- 1 teaspoon chili powder (adjust to your spice preference)\n",
      "- 1 cup tomato puree\n",
      "- 1/2 cup heavy cream\n",
      "- Salt to taste\n",
      "- Fresh cilantro leaves for garnish\n",
      "\n",
      "Instructions:\n",
      "1. Heat the butter in a large pan over medium heat. Add the chopped onion and sauté until it turns golden brown.\n",
      "2. Add the minced garlic and grated ginger to the pan. Cook for another minute until fragrant.\n",
      "3. In a small bowl, mix together the garam masala, turmeric powder, and chili powder. Add this spice mixture to the pan and cook for a minute to release the flavors.\n",
      "4. Add the chicken pieces to the pan and cook until they are browned on all sides.\n",
      "5. Pour in the tomato puree and stir well to combine. Reduce the heat to low, cover the pan, and let it simmer for about 15-20 minutes, or until the chicken is cooked through.\n",
      "6. Stir in the heavy cream and season with salt to taste. Simmer for an additional 5 minutes to allow the flavors to meld together.\n",
      "7. Garnish with fresh cilantro leaves before serving.\n",
      "8. Serve the Butter Chicken with steamed basmati rice or naan bread for a complete meal.\n",
      "\n",
      "Enjoy your homemade Butter Chicken!Great choice! Butter Chicken is a delicious Indian dish that can easily be made vegetarian. Here's a modified version of the recipe using alternative ingredients:\n",
      "\n",
      "Ingredients:\n",
      "- 500g paneer (Indian cottage cheese), cut into bite-sized pieces\n",
      "- 2 tablespoons butter (or vegan butter for a vegan option)\n",
      "- 1 onion, finely chopped\n",
      "- 2 cloves of garlic, minced\n",
      "- 1-inch piece of ginger, grated\n",
      "- 2 teaspoons garam masala\n",
      "- 1 teaspoon turmeric powder\n",
      "- 1 teaspoon chili powder (adjust to your spice preference)\n",
      "- 1 cup tomato puree\n",
      "- 1/2 cup coconut cream (or cashew cream for a nutty flavor)\n",
      "- Salt to taste\n",
      "- Fresh cilantro leaves for garnish\n",
      "\n",
      "Instructions:\n",
      "1. Heat the butter in a large pan over medium heat. Add the chopped onion and sauté until it turns golden brown.\n",
      "2. Add the minced garlic and grated ginger to the pan. Cook for another minute until fragrant.\n",
      "3. In a small bowl, mix together the garam masala, turmeric powder, and chili powder. Add this spice mixture to the pan and cook for a minute to release the flavors.\n",
      "4. Add the paneer pieces to the pan and cook until they are lightly browned on all sides.\n",
      "5. Pour in the tomato puree and stir well to combine. Reduce the heat to low, cover the pan, and let it simmer for about 15-20 minutes, or until the paneer is heated through.\n",
      "6. Stir in the coconut cream (or cashew cream) and season with salt to taste. Simmer for an additional 5 minutes to allow the flavors to meld together.\n",
      "7. Garnish with fresh cilantro leaves before serving.\n",
      "8. Serve the Butter Paneer with steamed basmati rice or naan bread for a complete meal.\n",
      "\n",
      "Enjoy your homemade vegetarian Butter Chicken!"
     ]
    },
    {
     "data": {
      "text/plain": [
       "AIMessageChunk(content=\"Great choice! Butter Chicken is a delicious Indian dish that can easily be made vegetarian. Here's a modified version of the recipe using alternative ingredients:\\n\\nIngredients:\\n- 500g paneer (Indian cottage cheese), cut into bite-sized pieces\\n- 2 tablespoons butter (or vegan butter for a vegan option)\\n- 1 onion, finely chopped\\n- 2 cloves of garlic, minced\\n- 1-inch piece of ginger, grated\\n- 2 teaspoons garam masala\\n- 1 teaspoon turmeric powder\\n- 1 teaspoon chili powder (adjust to your spice preference)\\n- 1 cup tomato puree\\n- 1/2 cup coconut cream (or cashew cream for a nutty flavor)\\n- Salt to taste\\n- Fresh cilantro leaves for garnish\\n\\nInstructions:\\n1. Heat the butter in a large pan over medium heat. Add the chopped onion and sauté until it turns golden brown.\\n2. Add the minced garlic and grated ginger to the pan. Cook for another minute until fragrant.\\n3. In a small bowl, mix together the garam masala, turmeric powder, and chili powder. Add this spice mixture to the pan and cook for a minute to release the flavors.\\n4. Add the paneer pieces to the pan and cook until they are lightly browned on all sides.\\n5. Pour in the tomato puree and stir well to combine. Reduce the heat to low, cover the pan, and let it simmer for about 15-20 minutes, or until the paneer is heated through.\\n6. Stir in the coconut cream (or cashew cream) and season with salt to taste. Simmer for an additional 5 minutes to allow the flavors to meld together.\\n7. Garnish with fresh cilantro leaves before serving.\\n8. Serve the Butter Paneer with steamed basmati rice or naan bread for a complete meal.\\n\\nEnjoy your homemade vegetarian Butter Chicken!\")"
      ]
     },
     "execution_count": 6,
     "metadata": {},
     "output_type": "execute_result"
    }
   ],
   "source": [
    "veg_chain = veg_chef_prompt | chat\n",
    "\n",
    "# chain model을 연계하여 사용하지 않을 경우 chef_chain, veg_chain을 각각 사용해야 함\n",
    "# chef_chain.invoke({\"cuisine\": \"indian\"}) -> \"Chicken Tikka Masala\"\n",
    "# veg_chain.invoke({\"recipe\": \"Chicken Tikka Masala\"}) -> veg_recipe of \"Chicken Tikka Masala\"\n",
    "\n",
    "# final_chain = chef_chain | veg_chain\n",
    "\n",
    "# 반면 chain model을 연계하여 사용할 경우 chef_chain, veg_chain을 각각 사용하지 않아도 됨\n",
    "\n",
    "final_chain = {\"recipe\": chef_chain} | veg_chain # chef_chain의 결과값이 veg_chain의 {recipe}에 들어감\n",
    "final_chain.invoke({\n",
    "    \"cuisine\": \"indian\" #cuisine이 chef_chain의 {cuisine}에 들어감\n",
    "})"
   ]
  },
  {
   "cell_type": "markdown",
   "metadata": {},
   "source": [
    "위 코드를 실행한 결과\n",
    "\n",
    "AIMessage(\n",
    "    content=\n",
    "    \"Great choice! Butter Chicken is a delicious Indian dish. \n",
    "    To make it vegetarian, we can replace the chicken with a plant-based alternative. \n",
    "    Here's an alternative recipe for Vegetarian Butter Chicken:\\n\\n\n",
    "    \n",
    "    Ingredients:\\n\n",
    "    - 500g plant-based chicken substitute (such as tofu, tempeh, or seitan), cut into bite-sized pieces\\n\n",
    "    - 2 tablespoons butter or vegan butter substitute\\n\n",
    "    - 1 onion, finely chopped\\n- 2 cloves of garlic, minced\\n\n",
    "    - 1-inch piece of ginger, grated\\n- 2 teaspoons garam masala\\n\n",
    "    - 1 teaspoon turmeric powder\\n\n",
    "    - 1 teaspoon chili powder (adjust according to your spice preference)\\n\n",
    "    - 1 cup tomato puree\\n- 1/2 cup coconut cream or cashew cream (for a creamy texture)\\n\n",
    "    - Salt to taste\\n\n",
    "    - Fresh cilantro leaves, for garnish\\n\\n\n",
    "    \n",
    "    Instructions:\\n\n",
    "    1. Heat the butter in a large pan over medium heat. Add the chopped onions and sauté until they turn golden brown.\\n\n",
    "    2. Add the minced garlic and grated ginger to the pan. Cook for another minute until fragrant.\\n\n",
    "    3. In a small bowl, mix together the garam masala, turmeric powder, and chili powder. Add this spice mixture to the pan and cook for a minute to release the flavors.\\n\n",
    "    4. Add the plant-based chicken substitute to the pan and cook until it is lightly browned on all sides.\\n\n",
    "    5. Pour in the tomato puree and season with salt. Stir well to combine all the ingredients.\\n\n",
    "    6. Reduce the heat to low, cover the pan, and let the mixture simmer for about 15-20 minutes, or until the plant-based chicken substitute is cooked through and tender.\\n\n",
    "    7. Stir in the coconut cream or cashew cream and simmer for an additional 5 minutes to thicken the sauce.\\n\n",
    "    8. Taste and adjust the seasoning if needed.\\n\n",
    "    9. Garnish with fresh cilantro leaves before serving.\\n\n",
    "    10. Serve the Vegetarian Butter Chicken hot with steamed rice or naan bread.\\n\\n\n",
    "    \n",
    "     Enjoy your homemade Vegetarian Butter Chicken! You can also add vegetables like bell peppers, peas, or mushrooms to enhance the dish.\"\n",
    ")"
   ]
  },
  {
   "cell_type": "markdown",
   "metadata": {},
   "source": [
    "Great choice! Indian cuisine is known for its rich flavors and aromatic spices. Let's start with a classic Indian dish called Butter Chicken. Here's an easy recipe for you:\n",
    "\n",
    "Ingredients:\n",
    "- 500g boneless chicken, cut into bite-sized pieces\n",
    "- 2 tablespoons butter\n",
    "- 1 onion, finely chopped\n",
    "- 2 cloves of garlic, minced\n",
    "- 1-inch piece of ginger, grated\n",
    "- 2 teaspoons garam masala\n",
    "- 1 teaspoon turmeric powder\n",
    "- 1 teaspoon chili powder (adjust to your spice preference)\n",
    "- 1 cup tomato puree\n",
    "- 1/2 cup heavy cream\n",
    "- Salt to taste\n",
    "- Fresh cilantro leaves for garnish\n",
    "\n",
    "Instructions:\n",
    "1. Heat the butter in a large pan over medium heat. Add the chopped onion and sauté until it turns golden brown.\n",
    "2. Add the minced garlic and grated ginger to the pan. Cook for another minute until fragrant.\n",
    "3. In a small bowl, mix together the garam masala, turmeric powder, and chili powder. Add this spice mixture to the pan and cook for a minute to release the flavors.\n",
    "4. Add the chicken pieces to the pan and cook until they are browned on all sides.\n",
    "5. Pour in the tomato puree and stir well to combine. Reduce the heat to low, cover the pan, and let it simmer for about 15-20 minutes, or until the chicken is cooked through.\n",
    "6. Stir in the heavy cream and season with salt to taste. Simmer for an additional 5 minutes to allow the flavors to meld together.\n",
    "7. Garnish with fresh cilantro leaves before serving.\n",
    "8. Serve the Butter Chicken with steamed basmati rice or naan bread for a complete meal.\n",
    "...\n",
    "6. Stir in the coconut cream (or cashew cream) and season with salt to taste. Simmer for an additional 5 minutes to allow the flavors to meld together.\n",
    "7. Garnish with fresh cilantro leaves before serving.\n",
    "8. Serve the Butter Paneer with steamed basmati rice or naan bread for a complete meal.\n",
    "\n",
    "Enjoy your homemade vegetarian Butter Chicken!"
   ]
  },
  {
   "cell_type": "markdown",
   "metadata": {},
   "source": [
    "---"
   ]
  },
  {
   "cell_type": "code",
   "execution_count": 1,
   "metadata": {},
   "outputs": [],
   "source": []
  }
 ],
 "metadata": {
  "kernelspec": {
   "display_name": ".venv",
   "language": "python",
   "name": "python3"
  },
  "language_info": {
   "codemirror_mode": {
    "name": "ipython",
    "version": 3
   },
   "file_extension": ".py",
   "mimetype": "text/x-python",
   "name": "python",
   "nbconvert_exporter": "python",
   "pygments_lexer": "ipython3",
   "version": "3.11.1"
  },
  "orig_nbformat": 4
 },
 "nbformat": 4,
 "nbformat_minor": 2
}
