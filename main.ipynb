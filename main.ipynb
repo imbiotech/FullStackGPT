{
 "cells": [
  {
   "cell_type": "code",
   "execution_count": null,
   "metadata": {},
   "outputs": [],
   "source": [
    "# from langchain.llms.openai import OpenAI # text-davinci-003 Model (사용 안 함)\n",
    "from langchain.chat_models import ChatOpenAI # GPT-3.5-turbo Model (text-davinci-003의 1/10 가격)\n",
    "\n",
    "# llm = OpenAI()\n",
    "chat = ChatOpenAI(\n",
    "    temperature=0.1 # 낮을 수록 일관성 있음, 높을 수록 무작위성(창의성) 있음, default 0.7\n",
    ")"
   ]
  },
  {
   "cell_type": "code",
   "execution_count": null,
   "metadata": {},
   "outputs": [],
   "source": [
    "##### 방식 1. HumanMessage, AIMessage, SystemMessage 사용 #####\n",
    "from langchain.schema import HumanMessage, AIMessage, SystemMessage # HumanMessage: 사용자 입력, AIMessage: AI 출력, SystemMessage: 시스템 출력, prompt를 직접 입력할 때 사용\n",
    "\n",
    "messages = [\n",
    "    SystemMessage(content=\"You are a geography expert. And you only reply in {language}.\"),\n",
    "    AIMessage(content=\"Ciao, mi chiamo {name}!\"),\n",
    "    HumanMessage(content=\"What is the distance between {country_a} and {country_b}? Also, what is your name?\")\n",
    "]\n",
    "\n",
    "chat.predict_messages(messages)"
   ]
  },
  {
   "cell_type": "code",
   "execution_count": null,
   "metadata": {},
   "outputs": [],
   "source": [
    "##### 방식 2. PromptTemplate 사용 #####\n",
    "from langchain.prompts import PromptTemplate # PromtTemplate은 string에서 template을 생성하기 위해 사용\n",
    "\n",
    "template_c = PromptTemplate.from_template(\"What is the distance between {country_a} and {country_b}? Also, what is your name?\") # template 생성, {country_a}, {country_b}는 변수\n",
    "\n",
    "prompt_a = template_c.format(country_a=\"Maxico\", country_b=\"Thailand\") # template에 변수를 적용하여 prompt 생성\n",
    "\n",
    "chat.predict(prompt_a) # prompt_a를 입력하여 AI 출력 예측"
   ]
  },
  {
   "cell_type": "code",
   "execution_count": null,
   "metadata": {},
   "outputs": [],
   "source": [
    "##### 방식 3. ChatPromptTemplate 사용 #####\n",
    "from langchain.prompts import ChatPromptTemplate # CharPromptTemplate는 messages에서 template을 생성하기 위해 사용\n",
    "\n",
    "template_b = ChatPromptTemplate.from_messages( # system, ai, human 순서로 messages를 (\"speaker\", \"content\") 형태로 입력, {language}, {name}, {country_a}, {country_b}는 변수\n",
    "    [\n",
    "        (\"system\", \"You are a geography expert. And you only reply in {language}.\"),\n",
    "        (\"ai\", \"Ciao, mi chiamo {name}!\"),\n",
    "        (\"human\", \"What is the distance between {country_a} and {country_b}? Also, what is your name?\")\n",
    "    ]\n",
    ")\n",
    "\n",
    "prompt_b = template_b.format_prompt( # template에 변수를 적용하여 prompt 생성\n",
    "    language=\"Greek\",\n",
    "    name=\"Socrates\",\n",
    "    country_a=\"Mexico\",\n",
    "    country_b=\"Thailand\"\n",
    ")\n",
    "\n",
    "chat.predict_messages(prompt_b) # prompt_b를 입력하여 AI 출력 예측"
   ]
  },
  {
   "cell_type": "code",
   "execution_count": null,
   "metadata": {},
   "outputs": [],
   "source": []
  },
  {
   "cell_type": "code",
   "execution_count": null,
   "metadata": {},
   "outputs": [],
   "source": [
    "##### 방식 4. ChatPromptTemplate 사용 및 사용자 정의 함수를 사용한 응용 #####\n",
    "from langchain.schema import BaseOutputParser\n",
    "\n",
    "class CommaOutputParser(BaseOutputParser): # AI 출력을 파싱하기 위한 클래스, BaseOutputParser를 상속받아 구현, 파싱이란? AI 출력을 의미있는 형태로 변환하는 것\n",
    "    def parse(self, text):\n",
    "        items = text.strip().split(\",\")\n",
    "        return list(map(str.strip, items))\n",
    "\n",
    "par = CommaOutputParser() # CommaOutputParser 객체 par 생성 (함수를 사용하기 위해 생성 필요함)\n",
    "\n",
    "template_c = ChatPromptTemplate.from_messages( # {max_items}은 답변의 최대 개수, {question}은 사용자의 질문\n",
    "    [\n",
    "        (\"system\", \"You are a list generating machine. Everything you are asked will be answered with a comma separated list of max {max_items} in lower case. Do NOT reply with anything else.\"),\n",
    "        (\"human\", \"{question}\")\n",
    "    ]\n",
    ")\n",
    "\n",
    "prompt_c = template_c.format_messages( # template에 변수를 적용하여 prompt 생성\n",
    "    max_items=10,\n",
    "    question=\"What are the planets?\"\n",
    ")\n",
    "\n",
    "result = chat.predict_messages(prompt_c) # prompt_c를 입력하여 AI 출력 예측\n",
    "\n",
    "par.parse(result.content)"
   ]
  },
  {
   "cell_type": "code",
   "execution_count": null,
   "metadata": {},
   "outputs": [],
   "source": [
    "##### 방식 5. chain format을 사용한 응용 #####\n",
    "\n",
    "chain = template_c | chat | par # template -> chat -> par 순서로 실행됨\n",
    "\n",
    "chain.invoke(\n",
    "    {\n",
    "        \"max_items\": 10,\n",
    "        \"question\": \"What are the pokemons?\"\n",
    "    }\n",
    ")\n",
    "\n",
    "# 이런 방식으로도 조합할 수 있음\n",
    "# chain_one = template1 | chat1 | parser1: template1 -> chat1 -> parser1 순서로 실행됨\n",
    "# chain_two = template2 | chat2 | parser2: template2 -> chat2 -> parser2 순서로 실행됨\n",
    "# all = chain_one | chain_two | ouput: chain_one -> chain_two -> output 순서로 실행됨"
   ]
  }
 ],
 "metadata": {
  "kernelspec": {
   "display_name": ".venv",
   "language": "python",
   "name": "python3"
  },
  "language_info": {
   "codemirror_mode": {
    "name": "ipython",
    "version": 3
   },
   "file_extension": ".py",
   "mimetype": "text/x-python",
   "name": "python",
   "nbconvert_exporter": "python",
   "pygments_lexer": "ipython3",
   "version": "3.11.1"
  },
  "orig_nbformat": 4
 },
 "nbformat": 4,
 "nbformat_minor": 2
}
